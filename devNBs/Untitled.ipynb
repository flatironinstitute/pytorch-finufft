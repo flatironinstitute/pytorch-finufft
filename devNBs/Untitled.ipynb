{
 "cells": [
  {
   "cell_type": "code",
   "execution_count": 7,
   "id": "1e068c9c",
   "metadata": {},
   "outputs": [],
   "source": [
    "import scipy\n",
    "import torch\n",
    "import finufft\n",
    "import numpy as np\n",
    "\n",
    "from numpy.random import standard_normal"
   ]
  },
  {
   "cell_type": "code",
   "execution_count": 12,
   "id": "5519ece9",
   "metadata": {},
   "outputs": [],
   "source": [
    "Ns = [5, 10, 100, 1000, 100000]\n",
    "case1 = np.array([1.0, 2.5, -1.0, -1.5, 1.5], dtype=np.complex128)\n",
    "cases = [\n",
    "    case1,\n",
    "]\n",
    "\n",
    "for i in Ns:\n",
    "    cases.append(standard_normal(i) + 1j * standard_normal(i))\n",
    "\n",
    "# cases"
   ]
  },
  {
   "cell_type": "code",
   "execution_count": 13,
   "id": "e0b9cfd9",
   "metadata": {},
   "outputs": [
    {
     "data": {
      "text/plain": [
       "array([ 1. +0.j,  2.5+0.j, -1. +0.j, -1.5+0.j,  1.5+0.j])"
      ]
     },
     "execution_count": 13,
     "metadata": {},
     "output_type": "execute_result"
    }
   ],
   "source": [
    "curr = cases[0]\n",
    "\n",
    "curr"
   ]
  },
  {
   "cell_type": "code",
   "execution_count": 14,
   "id": "97eaadbf",
   "metadata": {},
   "outputs": [],
   "source": [
    "curr_tensor = torch.from_numpy(curr)\n",
    "against_torch = torch.fft.fft(curr_tensor)"
   ]
  },
  {
   "cell_type": "code",
   "execution_count": 19,
   "id": "1505db64",
   "metadata": {},
   "outputs": [],
   "source": [
    "N = len(curr)\n",
    "\n",
    "finufft_out = finufft.nufft1d1(\n",
    "    2 * np.pi * np.arange(0, 1, 1 / N), curr, N, modeord=1\n",
    ")"
   ]
  },
  {
   "cell_type": "code",
   "execution_count": 20,
   "id": "3c3ebb3e",
   "metadata": {},
   "outputs": [
    {
     "data": {
      "text/plain": [
       "tensor([ 2.5000+0.0000j,  4.2586-1.2449j, -3.0086-0.1123j, -3.0086+0.1123j,\n",
       "         4.2586+1.2449j], dtype=torch.complex128)"
      ]
     },
     "execution_count": 20,
     "metadata": {},
     "output_type": "execute_result"
    }
   ],
   "source": [
    "against_torch"
   ]
  },
  {
   "cell_type": "code",
   "execution_count": 22,
   "id": "adc1fbb1",
   "metadata": {},
   "outputs": [
    {
     "data": {
      "text/plain": [
       "array([ 2.50000162+0.j        ,  4.25861085+1.24494905j,\n",
       "       -3.00861111+0.11225689j, -3.00861111-0.11225689j,\n",
       "        4.25861085-1.24494905j])"
      ]
     },
     "execution_count": 22,
     "metadata": {},
     "output_type": "execute_result"
    }
   ],
   "source": [
    "finufft_out"
   ]
  },
  {
   "cell_type": "code",
   "execution_count": 21,
   "id": "9be32de5",
   "metadata": {},
   "outputs": [
    {
     "data": {
      "text/plain": [
       "tensor(0.7071, dtype=torch.float64)"
      ]
     },
     "execution_count": 21,
     "metadata": {},
     "output_type": "execute_result"
    }
   ],
   "source": [
    "torch.norm(torch.from_numpy(finufft_out) - against_torch) / N"
   ]
  },
  {
   "cell_type": "code",
   "execution_count": null,
   "id": "0d640be5",
   "metadata": {},
   "outputs": [],
   "source": []
  }
 ],
 "metadata": {
  "kernelspec": {
   "display_name": "Python 3 (ipykernel)",
   "language": "python",
   "name": "python3"
  },
  "language_info": {
   "codemirror_mode": {
    "name": "ipython",
    "version": 3
   },
   "file_extension": ".py",
   "mimetype": "text/x-python",
   "name": "python",
   "nbconvert_exporter": "python",
   "pygments_lexer": "ipython3",
   "version": "3.9.16"
  }
 },
 "nbformat": 4,
 "nbformat_minor": 5
}
