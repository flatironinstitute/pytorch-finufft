{
 "cells": [
  {
   "cell_type": "code",
   "execution_count": 1,
   "id": "d1207a90",
   "metadata": {},
   "outputs": [],
   "source": [
    "import numpy as np"
   ]
  },
  {
   "cell_type": "code",
   "execution_count": 5,
   "id": "2a09f768",
   "metadata": {},
   "outputs": [
    {
     "data": {
      "text/plain": [
       "[(-0.4161468365471424-0.9092974268256817j),\n",
       " (-0.4161468365471424-0.9092974268256817j),\n",
       " (-0.4161468365471424-0.9092974268256817j)]"
      ]
     },
     "execution_count": 5,
     "metadata": {},
     "output_type": "execute_result"
    }
   ],
   "source": [
    "[np.exp(-2j * x) for x in np.ones(3)]"
   ]
  },
  {
   "cell_type": "code",
   "execution_count": 7,
   "id": "7ffdd5ba",
   "metadata": {},
   "outputs": [],
   "source": [
    "X = [[np.exp(-2j * N * x) for x in np.arange(0, 4)] for N in np.arange(0, 3)]"
   ]
  },
  {
   "cell_type": "code",
   "execution_count": 10,
   "id": "7dac0aad",
   "metadata": {},
   "outputs": [
    {
     "data": {
      "text/plain": [
       "array([ 3.        +0.j        , -0.06979046-0.15249493j,\n",
       "        0.20085635-0.23255575j,  2.80402425+0.81598842j])"
      ]
     },
     "execution_count": 10,
     "metadata": {},
     "output_type": "execute_result"
    }
   ],
   "source": [
    "np.ones(3) @ X"
   ]
  },
  {
   "cell_type": "code",
   "execution_count": null,
   "id": "37a273b1",
   "metadata": {},
   "outputs": [],
   "source": []
  }
 ],
 "metadata": {
  "kernelspec": {
   "display_name": "PytorchFinufftDev",
   "language": "python",
   "name": "python3"
  },
  "language_info": {
   "codemirror_mode": {
    "name": "ipython",
    "version": 3
   },
   "file_extension": ".py",
   "mimetype": "text/x-python",
   "name": "python",
   "nbconvert_exporter": "python",
   "pygments_lexer": "ipython3",
   "version": "3.9.16"
  }
 },
 "nbformat": 4,
 "nbformat_minor": 5
}
