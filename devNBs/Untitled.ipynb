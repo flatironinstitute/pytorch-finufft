{
 "cells": [
  {
   "cell_type": "code",
   "execution_count": 28,
   "id": "0b0297e7",
   "metadata": {},
   "outputs": [],
   "source": [
    "from typing import Union\n",
    "import torch\n",
    "import numpy as np\n",
    "import scipy\n",
    "import finufft\n",
    "\n",
    "from numpy.random import standard_normal\n",
    "\n",
    "\n",
    "class finufft1D1(torch.autograd.Function):\n",
    "    \"\"\"\n",
    "    FINUFFT 1D problem type 1 (non-uniform points)\n",
    "    \"\"\"\n",
    "\n",
    "    @staticmethod\n",
    "    def forward(\n",
    "        points: torch.Tensor,\n",
    "        values: torch.Tensor,\n",
    "        output_shape: Union[int, None] = None,\n",
    "        out: Union[torch.Tensor, None] = None,\n",
    "        fftshift=False,\n",
    "        **finufftkwargs,\n",
    "    ) -> torch.Tensor:\n",
    "        n_modes = output_shape if output_shape is None else len(values)\n",
    "\n",
    "        # TODO -- these are probably being \"double processed\". Should be some obvious way around this\n",
    "        isign = finufftkwargs.get(\"isign\") if \"isign\" in finufftkwargs else -1\n",
    "        # TODO -- isign should be left alone in the case we do not fftshift\n",
    "        modeord = 0 if fftshift else 1\n",
    "\n",
    "        # TODO -- probably dimension and shape match checks?\n",
    "        # finufftkwags should take in also eps, isign, ...\n",
    "\n",
    "        # TODO -- Type checks -- which need to be complex vs. not, etc.\n",
    "\n",
    "        nufft_out = finufft.nufft1d1(\n",
    "            points.numpy(),\n",
    "            values.numpy(),\n",
    "            n_modes,\n",
    "            isign=isign,\n",
    "            modeord=modeord,\n",
    "            **finufftkwargs,\n",
    "        )\n",
    "\n",
    "        return torch.from_numpy(nufft_out)\n",
    "\n",
    "\n",
    "class finufft1D2(torch.autograd.Function):\n",
    "    \"\"\"\n",
    "    FINUFFT 1d Problem type 2\n",
    "    \"\"\"\n",
    "\n",
    "    @staticmethod\n",
    "    def forward(\n",
    "        points: torch.Tensor,\n",
    "        targets: torch.Tensor,\n",
    "        out: Union[torch.Tensor, None] = None,\n",
    "        fftshift: bool = False,\n",
    "        **finufftkwargs,\n",
    "    ):\n",
    "        \"\"\"\n",
    "        Evaluates Type 2 NUFFT on inputs\n",
    "        \"\"\"\n",
    "\n",
    "        if out is not None:\n",
    "            raise ValueError(\"In-place not implemented\")\n",
    "\n",
    "        isign = finufftkwargs.get(\"isign\") if \"isign\" in finufftkwargs else -1\n",
    "        modeord = 0 if fftshift else 1\n",
    "\n",
    "        # TODO -- size checks and so on for the tensors; finufft will handle the rest of these\n",
    "\n",
    "        nufft_out = finufft.nufft1d2(\n",
    "            points.numpy(),\n",
    "            targets.numpy(),\n",
    "            isign=isign,\n",
    "            modeord=modeord,\n",
    "            **finufftkwargs,\n",
    "        )\n",
    "\n",
    "        return torch.from_numpy(nufft_out)"
   ]
  },
  {
   "cell_type": "code",
   "execution_count": 34,
   "id": "4409bd2a",
   "metadata": {},
   "outputs": [],
   "source": [
    "Ns = [10, 100, 1000]\n",
    "c1 = standard_normal(size=Ns[0]) + 1j * standard_normal(size=Ns[0])\n",
    "c2 = standard_normal(size=Ns[1]) + 1j * standard_normal(size=Ns[1])\n",
    "c3 = standard_normal(size=Ns[2]) + 1j * standard_normal(size=Ns[2])"
   ]
  },
  {
   "cell_type": "code",
   "execution_count": 50,
   "id": "c5d88d90",
   "metadata": {},
   "outputs": [],
   "source": [
    "c = c3\n",
    "ctens = torch.from_numpy(c)\n",
    "N = len(c)\n",
    "\n",
    "against_torch = torch.fft.fft(ctens)\n",
    "against_scipy = torch.from_numpy(scipy.fft.fft(c))\n",
    "against_numpy = torch.from_numpy(np.fft.fft(c))\n",
    "\n",
    "finufft_out = finufft1D1.forward(\n",
    "    torch.from_numpy(2 * np.pi * np.arange(0, 1, 1 / N)), ctens, N\n",
    ")"
   ]
  },
  {
   "cell_type": "code",
   "execution_count": 52,
   "id": "7521002e",
   "metadata": {},
   "outputs": [
    {
     "name": "stdout",
     "output_type": "stream",
     "text": [
      "tensor(9.7285e-07, dtype=torch.float64)\n",
      "tensor(9.7285e-07, dtype=torch.float64)\n",
      "tensor(9.7285e-07, dtype=torch.float64)\n"
     ]
    }
   ],
   "source": [
    "print(torch.linalg.norm(finufft_out - against_torch) / N)\n",
    "print(torch.linalg.norm(finufft_out - against_scipy) / N)\n",
    "print(torch.linalg.norm(finufft_out - against_numpy) / N)"
   ]
  },
  {
   "cell_type": "code",
   "execution_count": 47,
   "id": "df72e78c",
   "metadata": {},
   "outputs": [
    {
     "data": {
      "text/plain": [
       "array([ 1.68800015+1.01064153j,  0.61552917+1.25111333j,\n",
       "       -0.43091698+0.411667j  , -1.6474588 +0.20897196j,\n",
       "        1.04184959-0.39853988j, -1.04149243-1.09231111j,\n",
       "       -1.22796487+0.16110404j, -1.07036354+0.05301891j,\n",
       "        1.48115337-0.95142228j, -1.77148772+0.15926136j])"
      ]
     },
     "execution_count": 47,
     "metadata": {},
     "output_type": "execute_result"
    }
   ],
   "source": [
    "c1"
   ]
  },
  {
   "cell_type": "code",
   "execution_count": 55,
   "id": "f0b47cd8",
   "metadata": {},
   "outputs": [],
   "source": [
    "points = 2 * np.pi * np.arange(0, 1, 1 / 10)\n",
    "f = standard_normal(10) + 1j * standard_normal(10)"
   ]
  },
  {
   "cell_type": "code",
   "execution_count": 56,
   "id": "df428bc1",
   "metadata": {},
   "outputs": [
    {
     "ename": "AttributeError",
     "evalue": "'numpy.ndarray' object has no attribute 'numpy'",
     "output_type": "error",
     "traceback": [
      "\u001b[0;31m---------------------------------------------------------------------------\u001b[0m",
      "\u001b[0;31mAttributeError\u001b[0m                            Traceback (most recent call last)",
      "Cell \u001b[0;32mIn[56], line 1\u001b[0m\n\u001b[0;32m----> 1\u001b[0m finufft1D2\u001b[39m.\u001b[39;49mforward(points, targets)\n",
      "Cell \u001b[0;32mIn[28], line 74\u001b[0m, in \u001b[0;36mfinufft1D2.forward\u001b[0;34m(points, targets, out, fftshift, **finufftkwargs)\u001b[0m\n\u001b[1;32m     69\u001b[0m modeord \u001b[39m=\u001b[39m \u001b[39m0\u001b[39m \u001b[39mif\u001b[39;00m fftshift \u001b[39melse\u001b[39;00m \u001b[39m1\u001b[39m\n\u001b[1;32m     71\u001b[0m \u001b[39m# TODO -- size checks and so on for the tensors; finufft will handle the rest of these\u001b[39;00m\n\u001b[1;32m     73\u001b[0m nufft_out \u001b[39m=\u001b[39m finufft\u001b[39m.\u001b[39mnufft1d2(\n\u001b[0;32m---> 74\u001b[0m     points\u001b[39m.\u001b[39;49mnumpy(),\n\u001b[1;32m     75\u001b[0m     targets\u001b[39m.\u001b[39mnumpy(),\n\u001b[1;32m     76\u001b[0m     isign\u001b[39m=\u001b[39misign,\n\u001b[1;32m     77\u001b[0m     modeord\u001b[39m=\u001b[39mmodeord,\n\u001b[1;32m     78\u001b[0m     \u001b[39m*\u001b[39m\u001b[39m*\u001b[39mfinufftkwargs,\n\u001b[1;32m     79\u001b[0m )\n\u001b[1;32m     81\u001b[0m \u001b[39mreturn\u001b[39;00m torch\u001b[39m.\u001b[39mfrom_numpy(nufft_out)\n",
      "\u001b[0;31mAttributeError\u001b[0m: 'numpy.ndarray' object has no attribute 'numpy'"
     ]
    }
   ],
   "source": [
    "finufft1D2.forward(points, targets)"
   ]
  },
  {
   "cell_type": "code",
   "execution_count": 11,
   "id": "9bb278d1",
   "metadata": {},
   "outputs": [
    {
     "data": {
      "text/plain": [
       "array([0.        , 0.62831855, 1.2566371 , 1.8849556 , 2.5132742 ,\n",
       "       3.1415927 , 3.7699113 , 4.3982296 , 5.0265484 , 5.6548667 ],\n",
       "      dtype=float32)"
      ]
     },
     "execution_count": 11,
     "metadata": {},
     "output_type": "execute_result"
    }
   ],
   "source": [
    "points.numpy()"
   ]
  },
  {
   "cell_type": "code",
   "execution_count": 17,
   "id": "67570d86",
   "metadata": {},
   "outputs": [
    {
     "data": {
      "text/plain": [
       "tensor([-0.7384+0.7613j, -0.4587-0.4698j, -0.0498+1.6281j,  1.0775+0.6824j,\n",
       "         0.4203-0.2157j,  0.1409-0.8150j,  0.2371-1.0232j,  2.0754+1.3288j,\n",
       "         0.1662-0.0154j, -1.5926-1.7762j], dtype=torch.complex128)"
      ]
     },
     "execution_count": 17,
     "metadata": {},
     "output_type": "execute_result"
    }
   ],
   "source": [
    "from numpy.random import standard_normal\n",
    "\n",
    "\n",
    "torch.from_numpy(standard_normal(size=10) + 1j * standard_normal(size=10))"
   ]
  },
  {
   "cell_type": "code",
   "execution_count": 18,
   "id": "5817d593",
   "metadata": {},
   "outputs": [],
   "source": [
    "X = torch.from_numpy(standard_normal(size=10) + 1j * standard_normal(size=10))"
   ]
  },
  {
   "cell_type": "code",
   "execution_count": 19,
   "id": "b5360405",
   "metadata": {},
   "outputs": [
    {
     "data": {
      "text/plain": [
       "array([-2.18277392+0.56268495j,  1.44170011+1.55528464j,\n",
       "       -0.15480382-1.27402313j,  1.33108946-0.05318239j,\n",
       "        0.66729336+0.41691941j,  1.79139712+0.06417306j,\n",
       "       -0.19469785+0.11891478j,  0.70620269+0.35065945j,\n",
       "       -0.28880402-0.70935561j,  0.61179117-0.1736012j ])"
      ]
     },
     "execution_count": 19,
     "metadata": {},
     "output_type": "execute_result"
    }
   ],
   "source": [
    "X.numpy()"
   ]
  },
  {
   "cell_type": "code",
   "execution_count": 57,
   "id": "c22f9e7e",
   "metadata": {},
   "outputs": [
    {
     "data": {
      "text/plain": [
       "torch.complex128"
      ]
     },
     "execution_count": 57,
     "metadata": {},
     "output_type": "execute_result"
    }
   ],
   "source": [
    "X.dtype"
   ]
  },
  {
   "cell_type": "code",
   "execution_count": 58,
   "id": "eedc6b23",
   "metadata": {},
   "outputs": [],
   "source": [
    "Y = 2 * np.pi * torch.arange(0, 1, 1 / N)"
   ]
  },
  {
   "cell_type": "code",
   "execution_count": 59,
   "id": "ab20c0b0",
   "metadata": {},
   "outputs": [
    {
     "data": {
      "text/plain": [
       "torch.float32"
      ]
     },
     "execution_count": 59,
     "metadata": {},
     "output_type": "execute_result"
    }
   ],
   "source": [
    "Y.dtype"
   ]
  },
  {
   "cell_type": "code",
   "execution_count": 60,
   "id": "b719a955",
   "metadata": {},
   "outputs": [],
   "source": [
    "import finufft\n",
    "import scipy"
   ]
  },
  {
   "cell_type": "code",
   "execution_count": 81,
   "id": "76ec2f54",
   "metadata": {},
   "outputs": [],
   "source": [
    "f_k = scipy.fft.fft(np.array([1.0, 2.0, 1.0, -1.0, 1.5]))\n",
    "\n",
    "X = scipy.fft.ifft(f_k)"
   ]
  },
  {
   "cell_type": "code",
   "execution_count": 82,
   "id": "27b88b38",
   "metadata": {},
   "outputs": [],
   "source": [
    "Y = (\n",
    "    finufft.nufft1d2(\n",
    "        2 * np.pi * np.arange(0, 1, 1 / 5), f_k, isign=1, modeord=1\n",
    "    )\n",
    "    / 5\n",
    ")"
   ]
  },
  {
   "cell_type": "code",
   "execution_count": 85,
   "id": "9db62268",
   "metadata": {},
   "outputs": [
    {
     "data": {
      "text/plain": [
       "5.087739964477703e-07"
      ]
     },
     "execution_count": 85,
     "metadata": {},
     "output_type": "execute_result"
    }
   ],
   "source": [
    "np.linalg.norm((X - Y) / 2)"
   ]
  },
  {
   "cell_type": "code",
   "execution_count": 86,
   "id": "20461721",
   "metadata": {},
   "outputs": [],
   "source": [
    "f_k = torch.from_numpy(f_k)"
   ]
  },
  {
   "cell_type": "code",
   "execution_count": 88,
   "id": "fd4bc179",
   "metadata": {},
   "outputs": [
    {
     "data": {
      "text/plain": [
       "tensor([ 1.0000+0.j,  2.0000+0.j,  1.0000+0.j, -1.0000+0.j,  1.5000+0.j],\n",
       "       dtype=torch.complex128)"
      ]
     },
     "execution_count": 88,
     "metadata": {},
     "output_type": "execute_result"
    }
   ],
   "source": [
    "torch.fft.ifft(f_k)"
   ]
  },
  {
   "cell_type": "code",
   "execution_count": 1,
   "id": "0c03fb0e",
   "metadata": {},
   "outputs": [],
   "source": [
    "from numpy.random import standard_normal\n",
    "import torch\n",
    "import scipy\n",
    "import numpy as np\n",
    "\n",
    "import pytorch_finufft\n",
    "\n",
    "\n",
    "targets = standard_normal(10) + 1j * standard_normal(10)\n",
    "N = len(targets)\n",
    "\n",
    "inv_targets = scipy.fft.fft(targets)\n",
    "\n",
    "inv_target_tens = torch.from_numpy(inv_targets)"
   ]
  },
  {
   "cell_type": "code",
   "execution_count": 3,
   "id": "71ee06e4",
   "metadata": {},
   "outputs": [],
   "source": [
    "against_torch = torch.fft.ifft(inv_target_tens)\n",
    "against_scipy = scipy.fft.ifft(inv_targets)\n",
    "against_numpy = np.fft.ifft(inv_targets)"
   ]
  },
  {
   "cell_type": "code",
   "execution_count": 4,
   "id": "f8c853c6",
   "metadata": {},
   "outputs": [
    {
     "data": {
      "text/plain": [
       "tensor(8.1632e-16, dtype=torch.float64)"
      ]
     },
     "execution_count": 4,
     "metadata": {},
     "output_type": "execute_result"
    }
   ],
   "source": [
    "torch.norm(against_torch - against_numpy)"
   ]
  },
  {
   "cell_type": "code",
   "execution_count": 8,
   "id": "8cb6ba56",
   "metadata": {},
   "outputs": [],
   "source": [
    "finufft_out = (\n",
    "    pytorch_finufft.functional.finufft1D2.forward(\n",
    "        2 * np.pi * torch.arange(0, 1, 1 / N, dtype=torch.float64),\n",
    "        inv_target_tens,\n",
    "        isign=1,\n",
    "        # modeord=0,\n",
    "    )\n",
    "    / N\n",
    ")"
   ]
  },
  {
   "cell_type": "code",
   "execution_count": 9,
   "id": "23f60780",
   "metadata": {},
   "outputs": [
    {
     "data": {
      "text/plain": [
       "tensor([-1.4906+0.4040j, -0.5384-0.0209j,  0.0909+1.0173j, -0.3309+0.4834j,\n",
       "        -0.3796-1.3598j, -1.1410+0.7581j,  2.0789-1.5162j, -0.5641-0.7436j,\n",
       "        -0.2081+1.0429j, -0.3351+0.1575j], dtype=torch.complex128)"
      ]
     },
     "execution_count": 9,
     "metadata": {},
     "output_type": "execute_result"
    }
   ],
   "source": [
    "finufft_out"
   ]
  },
  {
   "cell_type": "code",
   "execution_count": 10,
   "id": "5bc19e02",
   "metadata": {},
   "outputs": [
    {
     "data": {
      "text/plain": [
       "tensor([-1.4906+0.4040j, -0.5384-0.0209j,  0.0909+1.0173j, -0.3309+0.4834j,\n",
       "        -0.3796-1.3598j, -1.1410+0.7581j,  2.0789-1.5162j, -0.5641-0.7436j,\n",
       "        -0.2081+1.0429j, -0.3351+0.1575j], dtype=torch.complex128)"
      ]
     },
     "execution_count": 10,
     "metadata": {},
     "output_type": "execute_result"
    }
   ],
   "source": [
    "against_torch"
   ]
  },
  {
   "cell_type": "code",
   "execution_count": 12,
   "id": "ab92642a",
   "metadata": {},
   "outputs": [
    {
     "data": {
      "text/plain": [
       "tensor(2.0384e-07, dtype=torch.float64)"
      ]
     },
     "execution_count": 12,
     "metadata": {},
     "output_type": "execute_result"
    }
   ],
   "source": [
    "torch.norm(finufft_out - against_torch) / N"
   ]
  },
  {
   "cell_type": "code",
   "execution_count": 13,
   "id": "811c52ad",
   "metadata": {},
   "outputs": [],
   "source": [
    "Ns = [10, 100, 1000, 10000]"
   ]
  },
  {
   "cell_type": "code",
   "execution_count": 20,
   "id": "0f825420",
   "metadata": {},
   "outputs": [],
   "source": [
    "cases = [\n",
    "    ([1.0, 2.0, 1.0, -1.0, 1.5]),\n",
    "    # (standard_normal(size=Ns[0]) + 1j * standard_normal(size=Ns[0])),\n",
    "    # (standard_normal(size=Ns[1]) + 1j * standard_normal(size=Ns[1])),\n",
    "    # (standard_normal(size=Ns[2]) + 1j * standard_normal(size=Ns[2])),\n",
    "    # (standard_normal(size=Ns[3]) + 1j * standard_normal(size=Ns[3])),\n",
    "]"
   ]
  },
  {
   "cell_type": "code",
   "execution_count": 21,
   "id": "82cfb416",
   "metadata": {},
   "outputs": [
    {
     "name": "stdout",
     "output_type": "stream",
     "text": [
      "tensor(1.7693, dtype=torch.float64)\n"
     ]
    }
   ],
   "source": [
    "for case in cases:\n",
    "    N = len(case)\n",
    "    inv_targets = scipy.fft.fft(case)\n",
    "    inv_targets_tens = torch.from_numpy(inv_targets)\n",
    "\n",
    "    against_torch = torch.fft.ifft(inv_targets_tens)\n",
    "    against_numpy = np.fft.ifft(inv_targets)\n",
    "    against_scipy = scipy.fft.ifft(inv_targets)\n",
    "\n",
    "    finufft_out = (\n",
    "        pytorch_finufft.functional.finufft1D2.forward(\n",
    "            2 * np.pi * torch.arange(0, 1, 1 / N, dtype=torch.float64),\n",
    "            inv_target_tens,\n",
    "            isign=1,\n",
    "            modeord=1,\n",
    "        )\n",
    "        / N\n",
    "    )\n",
    "\n",
    "    print(torch.norm(finufft_out - against_torch) / N)"
   ]
  },
  {
   "cell_type": "code",
   "execution_count": 26,
   "id": "c0f1e560",
   "metadata": {},
   "outputs": [
    {
     "name": "stdout",
     "output_type": "stream",
     "text": [
      "tensor([ 1.0000+0.j,  2.0000+0.j,  1.0000+0.j, -1.0000+0.j,  1.5000+0.j],\n",
      "       dtype=torch.complex128)\n",
      "tensor([ 1.0000+0.j,  2.0000+0.j,  1.0000+0.j, -1.0000+0.j,  1.5000+0.j],\n",
      "       dtype=torch.complex128)\n"
     ]
    }
   ],
   "source": [
    "targets = cases[0]\n",
    "N = len(targets)\n",
    "inv_targets = scipy.fft.fft(case)\n",
    "inv_target_tens = torch.from_numpy(inv_targets)\n",
    "\n",
    "against_torch = torch.fft.ifft(inv_targets_tens)\n",
    "against_numpy = np.fft.ifft(inv_targets)\n",
    "against_scipy = scipy.fft.ifft(inv_targets)\n",
    "\n",
    "finufft_out = (\n",
    "    pytorch_finufft.functional.finufft1D2.forward(\n",
    "        2 * np.pi * torch.arange(0, 1, 1 / N, dtype=torch.float64),\n",
    "        inv_target_tens,\n",
    "        isign=1,\n",
    "        modeord=1,\n",
    "    )\n",
    "    / N\n",
    ")\n",
    "\n",
    "print(against_torch)\n",
    "print(finufft_out)"
   ]
  },
  {
   "cell_type": "code",
   "execution_count": null,
   "id": "01cf9603",
   "metadata": {},
   "outputs": [],
   "source": []
  }
 ],
 "metadata": {
  "kernelspec": {
   "display_name": "Python 3 (ipykernel)",
   "language": "python",
   "name": "python3"
  },
  "language_info": {
   "codemirror_mode": {
    "name": "ipython",
    "version": 3
   },
   "file_extension": ".py",
   "mimetype": "text/x-python",
   "name": "python",
   "nbconvert_exporter": "python",
   "pygments_lexer": "ipython3",
   "version": "3.9.16"
  }
 },
 "nbformat": 4,
 "nbformat_minor": 5
}
