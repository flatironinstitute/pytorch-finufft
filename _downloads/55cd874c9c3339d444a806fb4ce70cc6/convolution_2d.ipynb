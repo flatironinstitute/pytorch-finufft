{
  "cells": [
    {
      "cell_type": "markdown",
      "metadata": {},
      "source": [
        "\n# Convolution in 2D\n"
      ]
    },
    {
      "cell_type": "markdown",
      "metadata": {},
      "source": [
        "## Import packages\n\nFirst, we import the packages we need for this example.\n\n"
      ]
    },
    {
      "cell_type": "code",
      "execution_count": null,
      "metadata": {
        "collapsed": false
      },
      "outputs": [],
      "source": [
        "import matplotlib.pyplot as plt\nimport numpy as np\nimport torch\n\nimport pytorch_finufft"
      ]
    },
    {
      "cell_type": "markdown",
      "metadata": {},
      "source": [
        "Let's create a Gaussian convolutional filter as a function of x,y\n\n"
      ]
    },
    {
      "cell_type": "code",
      "execution_count": null,
      "metadata": {
        "collapsed": false
      },
      "outputs": [],
      "source": [
        "def gaussian_function(x, y, sigma=1):\n    return np.exp(-(x**2 + y**2) / (2 * sigma**2))"
      ]
    },
    {
      "cell_type": "markdown",
      "metadata": {},
      "source": [
        "Let's visualize this filter kernel. We will be using it to convolve with points\nliving on the $[0, 2*\\pi] \\times [0, 2*\\pi]$ torus. So let's dimension it accordingly.\n\n"
      ]
    },
    {
      "cell_type": "code",
      "execution_count": null,
      "metadata": {
        "collapsed": false
      },
      "outputs": [],
      "source": [
        "shape = (128, 128)\nsigma = 0.5\nx = np.linspace(-np.pi, np.pi, shape[0], endpoint=False)\ny = np.linspace(-np.pi, np.pi, shape[1], endpoint=False)\n\ngaussian_kernel = gaussian_function(x[:, np.newaxis], y, sigma=sigma)\n\nfig, ax = plt.subplots()\n_ = ax.imshow(gaussian_kernel)"
      ]
    },
    {
      "cell_type": "markdown",
      "metadata": {},
      "source": [
        "In order for the kernel to not shift the signal, we need to place its mass at 0.\nTo do this, we ifftshift the kernel\n\n"
      ]
    },
    {
      "cell_type": "code",
      "execution_count": null,
      "metadata": {
        "collapsed": false
      },
      "outputs": [],
      "source": [
        "shifted_gaussian_kernel = np.fft.ifftshift(gaussian_kernel)\n\nfig, ax = plt.subplots()\n_ = ax.imshow(shifted_gaussian_kernel)"
      ]
    },
    {
      "cell_type": "markdown",
      "metadata": {},
      "source": [
        "Now let's create a point cloud on the torus that we can convolve with our filter\n\n"
      ]
    },
    {
      "cell_type": "code",
      "execution_count": null,
      "metadata": {
        "collapsed": false
      },
      "outputs": [],
      "source": [
        "N = 20\npoints = np.random.rand(2, N) * 2 * np.pi\n\nfig, ax = plt.subplots()\nax.set_xlim(0, 2 * np.pi)\nax.set_ylim(0, 2 * np.pi)\nax.set_aspect(\"equal\")\n_ = ax.scatter(points[0], points[1], s=1)"
      ]
    },
    {
      "cell_type": "markdown",
      "metadata": {},
      "source": [
        "Now we can convolve the point cloud with the filter kernel.\nTo do this, we Fourier-transform both the point cloud and the filter kernel,\nmultiply them together, and then inverse Fourier-transform the result.\nFirst we need to convert all data to torch tensors\n\n"
      ]
    },
    {
      "cell_type": "code",
      "execution_count": null,
      "metadata": {
        "collapsed": false
      },
      "outputs": [],
      "source": [
        "fourier_shifted_gaussian_kernel = torch.fft.fft2(\n    torch.from_numpy(shifted_gaussian_kernel)\n)\nfourier_points = pytorch_finufft.functional.finufft_type1(\n    torch.from_numpy(points), torch.ones(points.shape[1], dtype=torch.complex128), shape\n)\n\nfig, axs = plt.subplots(1, 3)\naxs[0].imshow(fourier_shifted_gaussian_kernel.real)\naxs[1].imshow(fourier_points.real, vmin=-10, vmax=10)\n_ = axs[2].imshow(\n    (\n        fourier_points\n        * fourier_shifted_gaussian_kernel\n        / fourier_shifted_gaussian_kernel[0, 0]\n    ).real,\n    vmin=-10,\n    vmax=10,\n)"
      ]
    },
    {
      "cell_type": "markdown",
      "metadata": {},
      "source": [
        "We now have two possibilities: Invert the Fourier transform on a grid, or on a point\ncloud. We'll first invert the Fourier transform on a grid in order to be able to\nvisualize the effect of the convolution.\n\n"
      ]
    },
    {
      "cell_type": "code",
      "execution_count": null,
      "metadata": {
        "collapsed": false
      },
      "outputs": [],
      "source": [
        "convolved_points = torch.fft.ifft2(fourier_points * fourier_shifted_gaussian_kernel)\n\nfig, ax = plt.subplots()\nax.imshow(convolved_points.real)\n_ = ax.scatter(\n    points[1] / 2 / np.pi * shape[0], points[0] / 2 / np.pi * shape[1], s=2, c=\"r\"\n)"
      ]
    },
    {
      "cell_type": "markdown",
      "metadata": {},
      "source": [
        "We see that the convolution has smeared out the point cloud.\nAfter a small coordinate change, we can also plot the original points\non the same plot as the convolved points.\n\n"
      ]
    },
    {
      "cell_type": "markdown",
      "metadata": {},
      "source": [
        "Next, we invert the Fourier transform on the same points as\nour original point cloud. We will then compare this to direct evaluation\nof the kernel on all pairwise difference vectors between the points.\n\n"
      ]
    },
    {
      "cell_type": "code",
      "execution_count": null,
      "metadata": {
        "collapsed": false
      },
      "outputs": [],
      "source": [
        "convolved_at_points = pytorch_finufft.functional.finufft_type2(\n    torch.from_numpy(points),\n    fourier_points * fourier_shifted_gaussian_kernel,\n    isign=1,\n).real / np.prod(shape)\n\nfig, ax = plt.subplots()\nax.imshow(convolved_points.real)\n_ = ax.scatter(\n    points[1] / 2 / np.pi * shape[0],\n    points[0] / 2 / np.pi * shape[1],\n    s=10 * convolved_at_points,\n    c=\"r\",\n)"
      ]
    },
    {
      "cell_type": "markdown",
      "metadata": {},
      "source": [
        "To compute the convolution directly, we need to evaluate the kernel on all pairwise\ndifference vectors between the points. Note the points that will be off the diagonal.\nThese will be due to the periodic boundary conditions of the convolution.\n\n"
      ]
    },
    {
      "cell_type": "code",
      "execution_count": null,
      "metadata": {
        "collapsed": false
      },
      "outputs": [],
      "source": [
        "pairwise_diffs = points[:, np.newaxis] - points[:, :, np.newaxis]\nkernel_diff_evals = gaussian_function(*pairwise_diffs, sigma=sigma)\nconvolved_by_hand = kernel_diff_evals.sum(1)\n\nfig, ax = plt.subplots()\nax.plot(convolved_at_points.numpy(), convolved_by_hand, \".\")\nax.plot([1, 3], [1, 3])\n\nrelative_difference = torch.norm(\n    convolved_at_points - convolved_by_hand\n) / np.linalg.norm(convolved_by_hand)\nprint(\n    \"Relative difference between fourier convolution and direct convolution \"\n    f\"{relative_difference}\"\n)"
      ]
    },
    {
      "cell_type": "markdown",
      "metadata": {},
      "source": [
        "Now let's see if we can learn the convolution kernel from the input and output point\nclouds. To this end, let's first make a pytorch object that can compute a kernel\nconvolution on a point cloud.\n\n"
      ]
    },
    {
      "cell_type": "code",
      "execution_count": null,
      "metadata": {
        "collapsed": false
      },
      "outputs": [],
      "source": [
        "class FourierPointConvolution(torch.nn.Module):\n    def __init__(self, fourier_kernel_shape):\n        super().__init__()\n        self.fourier_kernel_shape = fourier_kernel_shape\n\n        self.build()\n\n    def build(self):\n        self.register_parameter(\n            \"fourier_kernel\",\n            torch.nn.Parameter(\n                torch.randn(self.fourier_kernel_shape, dtype=torch.complex128)\n            ),\n        )\n        # ^ think about whether we need to scale this init in some better way\n\n    def forward(self, points, values):\n        fourier_transformed_input = pytorch_finufft.functional.finufft_type1(\n            points, values, self.fourier_kernel_shape\n        )\n        fourier_convolved = fourier_transformed_input * self.fourier_kernel\n        convolved = pytorch_finufft.functional.finufft_type2(\n            points,\n            fourier_convolved,\n            isign=1,\n        ).real / np.prod(self.fourier_kernel_shape)\n        return convolved"
      ]
    },
    {
      "cell_type": "markdown",
      "metadata": {},
      "source": [
        "Now we can use this object in a pytorch training loop to learn the kernel from the\ninput and output point clouds. We will use the mean squared error as a loss function.\n\n"
      ]
    },
    {
      "cell_type": "code",
      "execution_count": null,
      "metadata": {
        "collapsed": false
      },
      "outputs": [],
      "source": [
        "fourier_point_convolution = FourierPointConvolution(shape)\noptimizer = torch.optim.AdamW(\n    fourier_point_convolution.parameters(), lr=0.005, weight_decay=0.001\n)\n\nones = torch.ones(points.shape[1], dtype=torch.complex128)\n\nlosses = []\nfor i in range(10000):\n    # Make new set of points and compute forward model\n    points = np.random.rand(2, N) * 2 * np.pi\n    torch_points = torch.from_numpy(points)\n    fourier_points = pytorch_finufft.functional.finufft_type1(\n        torch.from_numpy(points), ones, shape\n    )\n    convolved_at_points = pytorch_finufft.functional.finufft_type2(\n        torch.from_numpy(points),\n        fourier_points * fourier_shifted_gaussian_kernel,\n        isign=1,\n    ).real / np.prod(shape)\n\n    # Learning step\n    optimizer.zero_grad()\n    convolved = fourier_point_convolution(torch_points, ones)\n    loss = torch.nn.functional.mse_loss(convolved, convolved_at_points)\n    losses.append(loss.item())\n    loss.backward()\n    optimizer.step()\n\n    if i % 100 == 0:\n        print(f\"Iteration {i:05d}, Loss: {loss.item():1.4f}\")\n\n\nfig, ax = plt.subplots()\nax.plot(losses)\nax.set_ylabel(\"Loss\")\nax.set_xlabel(\"Iteration\")\nax.set_yscale(\"log\")\n\nfig, ax = plt.subplots()\nim = ax.imshow(\n    torch.real(torch.fft.fftshift(fourier_point_convolution.fourier_kernel.data))[\n        48:80, 48:80\n    ]\n)\n_ = fig.colorbar(im, ax=ax)"
      ]
    }
  ],
  "metadata": {
    "kernelspec": {
      "display_name": "Python 3",
      "language": "python",
      "name": "python3"
    },
    "language_info": {
      "codemirror_mode": {
        "name": "ipython",
        "version": 3
      },
      "file_extension": ".py",
      "mimetype": "text/x-python",
      "name": "python",
      "nbconvert_exporter": "python",
      "pygments_lexer": "ipython3",
      "version": "3.9.20"
    }
  },
  "nbformat": 4,
  "nbformat_minor": 0
}