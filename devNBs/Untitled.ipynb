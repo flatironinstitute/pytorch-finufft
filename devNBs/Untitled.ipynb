{
 "cells": [
  {
   "cell_type": "code",
   "execution_count": 10,
   "id": "d1207a90",
   "metadata": {},
   "outputs": [],
   "source": [
    "import numpy as np\n",
    "import pytorch_finufft\n",
    "import torch\n",
    "\n",
    "from typing import Optional"
   ]
  },
  {
   "cell_type": "code",
   "execution_count": 11,
   "id": "30ca1621",
   "metadata": {},
   "outputs": [],
   "source": [
    "c = torch.randn(5, dtype=torch.complex64, requires_grad=True)\n",
    "x = torch.arange(5, dtype=torch.float32) * 2 * np.pi / 5"
   ]
  },
  {
   "cell_type": "code",
   "execution_count": 13,
   "id": "495b18c5",
   "metadata": {},
   "outputs": [],
   "source": [
    "class finufft1D1(torch.autograd.Function):\n",
    "    @staticmethod\n",
    "    def forward(\n",
    "        ctx,\n",
    "        points,\n",
    "        values,\n",
    "        output_shape,\n",
    "        fftshift: bool = False,\n",
    "        **finufftkwargs: Optional[str],\n",
    "    ):\n",
    "        if output_shape is None and out is None:\n",
    "            output_shape = len(points)\n",
    "\n",
    "        finufftkwargs = {k: v for k, v in finufftkwargs.items()}\n",
    "\n",
    "    @staticmethod\n",
    "    def backward(ctx, grad_output):\n",
    "        _i_sign = ctx.isign\n",
    "        _mode_ordering = ctx.mode_ordering\n",
    "        finufftkwargs = ctx.finufftkwargs\n",
    "\n",
    "        points, values = ctx.saved_tensors\n",
    "        grad_points = grad_values = None\n",
    "\n",
    "        if ctx.needs_input_grad[0]:\n",
    "            # w.r.t. the points x_j\n",
    "            grad_points = None  # finufft.nufft1d2()\n",
    "        if ctx.needs_input_grad[1]:\n",
    "            # w.r.t. the values c_j\n",
    "            np_points = points.detach().numpy()\n",
    "            np_grad_output = grad_output.numpy()\n",
    "            print(np_points.dtype)\n",
    "            print(np_grad_output.dtype)\n",
    "\n",
    "            grad_values = pytorch_finufft.functional.finufft1D2.apply(\n",
    "                points,\n",
    "                grad_output,\n",
    "                isign=_i_sign,\n",
    "                modeord=_mode_ordering,\n",
    "                **finufftkwargs,\n",
    "            )\n",
    "\n",
    "        return grad_points, grad_values, None, None, None, None"
   ]
  },
  {
   "cell_type": "code",
   "execution_count": 14,
   "id": "ac818077",
   "metadata": {},
   "outputs": [
    {
     "name": "stderr",
     "output_type": "stream",
     "text": [
      "/Users/matthewmeeker/miniconda3/envs/PytorchFinufftDev/lib/python3.9/site-packages/torch/autograd/function.py:445: DeprecationWarning: <class '__main__.finufft1D1'> should not be instantiated. Methods on autograd functionsare all static, so you should invoke them on the class itself. Instantiating an autograd function will raise an error in a future version of PyTorch.\n",
      "  warnings.warn(f\"{cls} should not be instantiated. Methods on autograd functions\"\n"
     ]
    }
   ],
   "source": [
    "model = pytorch_finufft.functional.finufft1D1()"
   ]
  },
  {
   "cell_type": "code",
   "execution_count": 15,
   "id": "81403744",
   "metadata": {},
   "outputs": [
    {
     "ename": "TypeError",
     "evalue": "forward() missing 1 required positional argument: 'output_shape'",
     "output_type": "error",
     "traceback": [
      "\u001b[0;31m---------------------------------------------------------------------------\u001b[0m",
      "\u001b[0;31mTypeError\u001b[0m                                 Traceback (most recent call last)",
      "Cell \u001b[0;32mIn[15], line 1\u001b[0m\n\u001b[0;32m----> 1\u001b[0m finufft_out \u001b[39m=\u001b[39m model\u001b[39m.\u001b[39;49mapply(x, c)\n\u001b[1;32m      3\u001b[0m T \u001b[39m=\u001b[39m \u001b[39m1e-07\u001b[39m\n\u001b[1;32m      5\u001b[0m w \u001b[39m=\u001b[39m torch\u001b[39m.\u001b[39mzeros(\u001b[39m5\u001b[39m, dtype\u001b[39m=\u001b[39mtorch\u001b[39m.\u001b[39mfloat32)\n",
      "File \u001b[0;32m~/miniconda3/envs/PytorchFinufftDev/lib/python3.9/site-packages/torch/autograd/function.py:506\u001b[0m, in \u001b[0;36mFunction.apply\u001b[0;34m(cls, *args, **kwargs)\u001b[0m\n\u001b[1;32m    503\u001b[0m \u001b[39mif\u001b[39;00m \u001b[39mnot\u001b[39;00m torch\u001b[39m.\u001b[39m_C\u001b[39m.\u001b[39m_are_functorch_transforms_active():\n\u001b[1;32m    504\u001b[0m     \u001b[39m# See NOTE: [functorch vjp and autograd interaction]\u001b[39;00m\n\u001b[1;32m    505\u001b[0m     args \u001b[39m=\u001b[39m _functorch\u001b[39m.\u001b[39mutils\u001b[39m.\u001b[39munwrap_dead_wrappers(args)\n\u001b[0;32m--> 506\u001b[0m     \u001b[39mreturn\u001b[39;00m \u001b[39msuper\u001b[39;49m()\u001b[39m.\u001b[39;49mapply(\u001b[39m*\u001b[39;49margs, \u001b[39m*\u001b[39;49m\u001b[39m*\u001b[39;49mkwargs)  \u001b[39m# type: ignore[misc]\u001b[39;00m\n\u001b[1;32m    508\u001b[0m \u001b[39mif\u001b[39;00m \u001b[39mcls\u001b[39m\u001b[39m.\u001b[39msetup_context \u001b[39m==\u001b[39m _SingleLevelFunction\u001b[39m.\u001b[39msetup_context:\n\u001b[1;32m    509\u001b[0m     \u001b[39mraise\u001b[39;00m \u001b[39mRuntimeError\u001b[39;00m(\n\u001b[1;32m    510\u001b[0m         \u001b[39m'\u001b[39m\u001b[39mIn order to use an autograd.Function with functorch transforms \u001b[39m\u001b[39m'\u001b[39m\n\u001b[1;32m    511\u001b[0m         \u001b[39m'\u001b[39m\u001b[39m(vmap, grad, jvp, jacrev, ...), it must override the setup_context \u001b[39m\u001b[39m'\u001b[39m\n\u001b[1;32m    512\u001b[0m         \u001b[39m'\u001b[39m\u001b[39mstaticmethod. For more details, please see \u001b[39m\u001b[39m'\u001b[39m\n\u001b[1;32m    513\u001b[0m         \u001b[39m'\u001b[39m\u001b[39mhttps://pytorch.org/docs/master/notes/extending.func.html\u001b[39m\u001b[39m'\u001b[39m)\n",
      "\u001b[0;31mTypeError\u001b[0m: forward() missing 1 required positional argument: 'output_shape'"
     ]
    }
   ],
   "source": [
    "finufft_out = model.apply(x, c)\n",
    "\n",
    "T = 1e-07\n",
    "\n",
    "w = torch.zeros(5, dtype=torch.float32)\n",
    "rind = np.random.randint(5)\n",
    "w[rind] = 1"
   ]
  },
  {
   "cell_type": "code",
   "execution_count": 6,
   "id": "7fcf49cc",
   "metadata": {},
   "outputs": [],
   "source": [
    "assert finufft_out.dtype is torch.complex64"
   ]
  },
  {
   "cell_type": "code",
   "execution_count": 7,
   "id": "a8fa480b",
   "metadata": {},
   "outputs": [],
   "source": [
    "gF = torch.norm(torch.abs(finufft_out))"
   ]
  },
  {
   "cell_type": "code",
   "execution_count": 8,
   "id": "8d479292",
   "metadata": {},
   "outputs": [
    {
     "name": "stdout",
     "output_type": "stream",
     "text": [
      "tensor([ 0.0461-0.2714j,  0.2770-0.0937j,  0.2438+0.1615j,  0.6268-0.2984j,\n",
      "        -0.5017-0.1401j])\n",
      "complex64\n",
      "complex64\n"
     ]
    },
    {
     "ename": "TypeError",
     "evalue": "apply() takes no keyword arguments",
     "output_type": "error",
     "traceback": [
      "\u001b[0;31m---------------------------------------------------------------------------\u001b[0m",
      "\u001b[0;31mTypeError\u001b[0m                                 Traceback (most recent call last)",
      "Cell \u001b[0;32mIn[8], line 1\u001b[0m\n\u001b[0;32m----> 1\u001b[0m gF\u001b[39m.\u001b[39;49mbackward()\n",
      "File \u001b[0;32m~/miniconda3/envs/PytorchFinufftDev/lib/python3.9/site-packages/torch/_tensor.py:487\u001b[0m, in \u001b[0;36mTensor.backward\u001b[0;34m(self, gradient, retain_graph, create_graph, inputs)\u001b[0m\n\u001b[1;32m    477\u001b[0m \u001b[39mif\u001b[39;00m has_torch_function_unary(\u001b[39mself\u001b[39m):\n\u001b[1;32m    478\u001b[0m     \u001b[39mreturn\u001b[39;00m handle_torch_function(\n\u001b[1;32m    479\u001b[0m         Tensor\u001b[39m.\u001b[39mbackward,\n\u001b[1;32m    480\u001b[0m         (\u001b[39mself\u001b[39m,),\n\u001b[0;32m   (...)\u001b[0m\n\u001b[1;32m    485\u001b[0m         inputs\u001b[39m=\u001b[39minputs,\n\u001b[1;32m    486\u001b[0m     )\n\u001b[0;32m--> 487\u001b[0m torch\u001b[39m.\u001b[39;49mautograd\u001b[39m.\u001b[39;49mbackward(\n\u001b[1;32m    488\u001b[0m     \u001b[39mself\u001b[39;49m, gradient, retain_graph, create_graph, inputs\u001b[39m=\u001b[39;49minputs\n\u001b[1;32m    489\u001b[0m )\n",
      "File \u001b[0;32m~/miniconda3/envs/PytorchFinufftDev/lib/python3.9/site-packages/torch/autograd/__init__.py:200\u001b[0m, in \u001b[0;36mbackward\u001b[0;34m(tensors, grad_tensors, retain_graph, create_graph, grad_variables, inputs)\u001b[0m\n\u001b[1;32m    195\u001b[0m     retain_graph \u001b[39m=\u001b[39m create_graph\n\u001b[1;32m    197\u001b[0m \u001b[39m# The reason we repeat same the comment below is that\u001b[39;00m\n\u001b[1;32m    198\u001b[0m \u001b[39m# some Python versions print out the first line of a multi-line function\u001b[39;00m\n\u001b[1;32m    199\u001b[0m \u001b[39m# calls in the traceback and some print out the last line\u001b[39;00m\n\u001b[0;32m--> 200\u001b[0m Variable\u001b[39m.\u001b[39;49m_execution_engine\u001b[39m.\u001b[39;49mrun_backward(  \u001b[39m# Calls into the C++ engine to run the backward pass\u001b[39;49;00m\n\u001b[1;32m    201\u001b[0m     tensors, grad_tensors_, retain_graph, create_graph, inputs,\n\u001b[1;32m    202\u001b[0m     allow_unreachable\u001b[39m=\u001b[39;49m\u001b[39mTrue\u001b[39;49;00m, accumulate_grad\u001b[39m=\u001b[39;49m\u001b[39mTrue\u001b[39;49;00m)\n",
      "File \u001b[0;32m~/miniconda3/envs/PytorchFinufftDev/lib/python3.9/site-packages/torch/autograd/function.py:274\u001b[0m, in \u001b[0;36mBackwardCFunction.apply\u001b[0;34m(self, *args)\u001b[0m\n\u001b[1;32m    270\u001b[0m     \u001b[39mraise\u001b[39;00m \u001b[39mRuntimeError\u001b[39;00m(\u001b[39m\"\u001b[39m\u001b[39mImplementing both \u001b[39m\u001b[39m'\u001b[39m\u001b[39mbackward\u001b[39m\u001b[39m'\u001b[39m\u001b[39m and \u001b[39m\u001b[39m'\u001b[39m\u001b[39mvjp\u001b[39m\u001b[39m'\u001b[39m\u001b[39m for a custom \u001b[39m\u001b[39m\"\u001b[39m\n\u001b[1;32m    271\u001b[0m                        \u001b[39m\"\u001b[39m\u001b[39mFunction is not allowed. You should only implement one \u001b[39m\u001b[39m\"\u001b[39m\n\u001b[1;32m    272\u001b[0m                        \u001b[39m\"\u001b[39m\u001b[39mof them.\u001b[39m\u001b[39m\"\u001b[39m)\n\u001b[1;32m    273\u001b[0m user_fn \u001b[39m=\u001b[39m vjp_fn \u001b[39mif\u001b[39;00m vjp_fn \u001b[39mis\u001b[39;00m \u001b[39mnot\u001b[39;00m Function\u001b[39m.\u001b[39mvjp \u001b[39melse\u001b[39;00m backward_fn\n\u001b[0;32m--> 274\u001b[0m \u001b[39mreturn\u001b[39;00m user_fn(\u001b[39mself\u001b[39;49m, \u001b[39m*\u001b[39;49margs)\n",
      "File \u001b[0;32m~/Summer2023/Flatiron/pytorch-finufft/pytorch_finufft/functional.py:278\u001b[0m, in \u001b[0;36mfinufft1D1.backward\u001b[0;34m(ctx, grad_output)\u001b[0m\n\u001b[1;32m    275\u001b[0m     \u001b[39mprint\u001b[39m(np_points\u001b[39m.\u001b[39mdtype)\n\u001b[1;32m    276\u001b[0m     \u001b[39mprint\u001b[39m(np_grad_output\u001b[39m.\u001b[39mdtype)\n\u001b[0;32m--> 278\u001b[0m     grad_values \u001b[39m=\u001b[39m pytorch_finufft\u001b[39m.\u001b[39;49mfunctional\u001b[39m.\u001b[39;49mfinufft1D2\u001b[39m.\u001b[39;49mapply(\n\u001b[1;32m    279\u001b[0m         points,\n\u001b[1;32m    280\u001b[0m         grad_output,\n\u001b[1;32m    281\u001b[0m         isign\u001b[39m=\u001b[39;49m_i_sign,\n\u001b[1;32m    282\u001b[0m         modeord\u001b[39m=\u001b[39;49m_mode_ordering,\n\u001b[1;32m    283\u001b[0m         \u001b[39m*\u001b[39;49m\u001b[39m*\u001b[39;49mfinufftkwargs,\n\u001b[1;32m    284\u001b[0m     )\n\u001b[1;32m    286\u001b[0m \u001b[39mreturn\u001b[39;00m grad_points, grad_values, \u001b[39mNone\u001b[39;00m, \u001b[39mNone\u001b[39;00m, \u001b[39mNone\u001b[39;00m, \u001b[39mNone\u001b[39;00m\n",
      "File \u001b[0;32m~/miniconda3/envs/PytorchFinufftDev/lib/python3.9/site-packages/torch/autograd/function.py:506\u001b[0m, in \u001b[0;36mFunction.apply\u001b[0;34m(cls, *args, **kwargs)\u001b[0m\n\u001b[1;32m    503\u001b[0m \u001b[39mif\u001b[39;00m \u001b[39mnot\u001b[39;00m torch\u001b[39m.\u001b[39m_C\u001b[39m.\u001b[39m_are_functorch_transforms_active():\n\u001b[1;32m    504\u001b[0m     \u001b[39m# See NOTE: [functorch vjp and autograd interaction]\u001b[39;00m\n\u001b[1;32m    505\u001b[0m     args \u001b[39m=\u001b[39m _functorch\u001b[39m.\u001b[39mutils\u001b[39m.\u001b[39munwrap_dead_wrappers(args)\n\u001b[0;32m--> 506\u001b[0m     \u001b[39mreturn\u001b[39;00m \u001b[39msuper\u001b[39;49m()\u001b[39m.\u001b[39;49mapply(\u001b[39m*\u001b[39;49margs, \u001b[39m*\u001b[39;49m\u001b[39m*\u001b[39;49mkwargs)  \u001b[39m# type: ignore[misc]\u001b[39;00m\n\u001b[1;32m    508\u001b[0m \u001b[39mif\u001b[39;00m \u001b[39mcls\u001b[39m\u001b[39m.\u001b[39msetup_context \u001b[39m==\u001b[39m _SingleLevelFunction\u001b[39m.\u001b[39msetup_context:\n\u001b[1;32m    509\u001b[0m     \u001b[39mraise\u001b[39;00m \u001b[39mRuntimeError\u001b[39;00m(\n\u001b[1;32m    510\u001b[0m         \u001b[39m'\u001b[39m\u001b[39mIn order to use an autograd.Function with functorch transforms \u001b[39m\u001b[39m'\u001b[39m\n\u001b[1;32m    511\u001b[0m         \u001b[39m'\u001b[39m\u001b[39m(vmap, grad, jvp, jacrev, ...), it must override the setup_context \u001b[39m\u001b[39m'\u001b[39m\n\u001b[1;32m    512\u001b[0m         \u001b[39m'\u001b[39m\u001b[39mstaticmethod. For more details, please see \u001b[39m\u001b[39m'\u001b[39m\n\u001b[1;32m    513\u001b[0m         \u001b[39m'\u001b[39m\u001b[39mhttps://pytorch.org/docs/master/notes/extending.func.html\u001b[39m\u001b[39m'\u001b[39m)\n",
      "\u001b[0;31mTypeError\u001b[0m: apply() takes no keyword arguments"
     ]
    }
   ],
   "source": [
    "gF.backward()"
   ]
  },
  {
   "cell_type": "code",
   "execution_count": 34,
   "id": "c9ad0563",
   "metadata": {},
   "outputs": [
    {
     "data": {
      "text/plain": [
       "torch.float32"
      ]
     },
     "execution_count": 34,
     "metadata": {},
     "output_type": "execute_result"
    }
   ],
   "source": [
    "gF.dtype"
   ]
  },
  {
   "cell_type": "code",
   "execution_count": 9,
   "id": "b278b6cc",
   "metadata": {},
   "outputs": [
    {
     "data": {
      "text/plain": [
       "tensor(3.8660, grad_fn=<DotBackward0>)"
      ]
     },
     "execution_count": 9,
     "metadata": {},
     "output_type": "execute_result"
    }
   ],
   "source": [
    "gF"
   ]
  },
  {
   "cell_type": "code",
   "execution_count": 10,
   "id": "5699cc0c",
   "metadata": {},
   "outputs": [
    {
     "data": {
      "text/plain": [
       "tensor([ 0.5733-0.9889j, -2.2670-0.3075j, -0.9925+3.7364j, -0.2208-0.5198j,\n",
       "         0.9294-1.3498j], grad_fn=<finufft1D1Backward>)"
      ]
     },
     "execution_count": 10,
     "metadata": {},
     "output_type": "execute_result"
    }
   ],
   "source": [
    "finufft_out"
   ]
  },
  {
   "cell_type": "code",
   "execution_count": 11,
   "id": "8a4b6231",
   "metadata": {},
   "outputs": [
    {
     "data": {
      "text/plain": [
       "tensor([1.1430, 2.2878, 3.8660, 0.5647, 1.6389], grad_fn=<AbsBackward0>)"
      ]
     },
     "execution_count": 11,
     "metadata": {},
     "output_type": "execute_result"
    }
   ],
   "source": [
    "torch.abs(finufft_out)"
   ]
  },
  {
   "cell_type": "code",
   "execution_count": null,
   "id": "71de4759",
   "metadata": {},
   "outputs": [],
   "source": []
  }
 ],
 "metadata": {
  "kernelspec": {
   "display_name": "PytorchFinufftDev",
   "language": "python",
   "name": "python3"
  },
  "language_info": {
   "codemirror_mode": {
    "name": "ipython",
    "version": 3
   },
   "file_extension": ".py",
   "mimetype": "text/x-python",
   "name": "python",
   "nbconvert_exporter": "python",
   "pygments_lexer": "ipython3",
   "version": "3.9.16"
  }
 },
 "nbformat": 4,
 "nbformat_minor": 5
}
