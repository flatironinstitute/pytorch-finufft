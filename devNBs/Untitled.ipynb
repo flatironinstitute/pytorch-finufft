{
 "cells": [
  {
   "cell_type": "code",
   "execution_count": 7,
   "id": "1e068c9c",
   "metadata": {},
   "outputs": [],
   "source": [
    "import scipy\n",
    "import torch\n",
    "import finufft\n",
    "import numpy as np\n",
    "\n",
    "from numpy.random import standard_normal"
   ]
  },
  {
   "cell_type": "code",
   "execution_count": 12,
   "id": "5519ece9",
   "metadata": {},
   "outputs": [],
   "source": [
    "Ns = [5, 10, 100, 1000, 100000]\n",
    "case1 = np.array([1.0, 2.5, -1.0, -1.5, 1.5], dtype=np.complex128)\n",
    "cases = [\n",
    "    case1,\n",
    "]\n",
    "\n",
    "for i in Ns:\n",
    "    cases.append(standard_normal(i) + 1j * standard_normal(i))\n",
    "\n",
    "# cases"
   ]
  },
  {
   "cell_type": "code",
   "execution_count": 33,
   "id": "e0b9cfd9",
   "metadata": {},
   "outputs": [
    {
     "data": {
      "text/plain": [
       "array([-0.66527073-0.61035547j, -2.12140142-0.5732981j ,\n",
       "       -1.010923  +1.54094655j, ...,  0.34772392-2.38756294j,\n",
       "        2.28183424-1.13824207j,  0.37741838-0.27767027j])"
      ]
     },
     "execution_count": 33,
     "metadata": {},
     "output_type": "execute_result"
    }
   ],
   "source": [
    "curr = cases[5]\n",
    "\n",
    "curr"
   ]
  },
  {
   "cell_type": "code",
   "execution_count": 34,
   "id": "97eaadbf",
   "metadata": {},
   "outputs": [],
   "source": [
    "curr_tensor = torch.from_numpy(curr)\n",
    "against_torch = torch.fft.fft(curr_tensor)"
   ]
  },
  {
   "cell_type": "code",
   "execution_count": 35,
   "id": "1505db64",
   "metadata": {},
   "outputs": [],
   "source": [
    "N = len(curr)\n",
    "\n",
    "finufft_out = finufft.nufft1d1(\n",
    "    2 * np.pi * np.arange(0, 1, 1 / N), curr, N, modeord=1, isign=-1\n",
    ")"
   ]
  },
  {
   "cell_type": "code",
   "execution_count": 36,
   "id": "3c3ebb3e",
   "metadata": {},
   "outputs": [
    {
     "data": {
      "text/plain": [
       "tensor([  49.7882-275.3234j, -346.6685+657.1234j, -292.1692+786.4391j,\n",
       "         ...,  243.0341-404.0582j,  -31.8155+253.3499j,\n",
       "          33.8828+387.0750j], dtype=torch.complex128)"
      ]
     },
     "execution_count": 36,
     "metadata": {},
     "output_type": "execute_result"
    }
   ],
   "source": [
    "against_torch"
   ]
  },
  {
   "cell_type": "code",
   "execution_count": 37,
   "id": "adc1fbb1",
   "metadata": {},
   "outputs": [
    {
     "data": {
      "text/plain": [
       "array([  49.78823074-275.32356997j, -346.66872115+657.12369894j,\n",
       "       -292.16933971+786.43948763j, ...,  243.03421708-404.0584142j ,\n",
       "        -31.81552999+253.34999937j,   33.88280688+387.0752464j ])"
      ]
     },
     "execution_count": 37,
     "metadata": {},
     "output_type": "execute_result"
    }
   ],
   "source": [
    "finufft_out"
   ]
  },
  {
   "cell_type": "code",
   "execution_count": 38,
   "id": "9be32de5",
   "metadata": {},
   "outputs": [
    {
     "data": {
      "text/plain": [
       "tensor([ 2.6338e-05-0.0001j, -1.8338e-04+0.0003j, -1.5455e-04+0.0004j,\n",
       "         ...,  1.2856e-04-0.0002j, -1.6830e-05+0.0001j,\n",
       "         1.7924e-05+0.0002j], dtype=torch.complex128)"
      ]
     },
     "execution_count": 38,
     "metadata": {},
     "output_type": "execute_result"
    }
   ],
   "source": [
    "(torch.from_numpy(finufft_out) - against_torch)"
   ]
  },
  {
   "cell_type": "code",
   "execution_count": 31,
   "id": "0d640be5",
   "metadata": {},
   "outputs": [
    {
     "data": {
      "text/plain": [
       "array([0.+0.j, 1.+0.j, 2.+0.j, 3.+0.j, 4.+0.j])"
      ]
     },
     "execution_count": 31,
     "metadata": {},
     "output_type": "execute_result"
    }
   ],
   "source": [
    "np.array([0, 1, 2, 3, 4], dtype=np.complex128)"
   ]
  },
  {
   "cell_type": "code",
   "execution_count": 82,
   "id": "acd225d1",
   "metadata": {},
   "outputs": [],
   "source": [
    "######################## TYPE 2\n",
    "\n",
    "curr = cases[0]\n",
    "N = len(curr)\n",
    "\n",
    "forward = torch.fft.fft(torch.from_numpy(curr))\n",
    "\n",
    "against_torch = torch.fft.ifft(forward)\n",
    "\n",
    "finufft_out = (\n",
    "    finufft.nufft1d2(\n",
    "        2 * np.pi * np.arange(0, 1, 1 / N), forward.numpy(), modeord=1, isign=1\n",
    "    )\n",
    "    / N\n",
    ")"
   ]
  },
  {
   "cell_type": "code",
   "execution_count": 83,
   "id": "de87eebd",
   "metadata": {},
   "outputs": [
    {
     "data": {
      "text/plain": [
       "tensor([ 1.0000+0.j,  2.5000+0.j, -1.0000+0.j, -1.5000+0.j,  1.5000+0.j],\n",
       "       dtype=torch.complex128)"
      ]
     },
     "execution_count": 83,
     "metadata": {},
     "output_type": "execute_result"
    }
   ],
   "source": [
    "against_torch"
   ]
  },
  {
   "cell_type": "code",
   "execution_count": 84,
   "id": "78290700",
   "metadata": {},
   "outputs": [
    {
     "data": {
      "text/plain": [
       "array([ 1.00000039+0.j,  2.49999998+0.j, -1.00000073+0.j, -1.50000069+0.j,\n",
       "        1.50000006+0.j])"
      ]
     },
     "execution_count": 84,
     "metadata": {},
     "output_type": "execute_result"
    }
   ],
   "source": [
    "finufft_out"
   ]
  },
  {
   "cell_type": "code",
   "execution_count": 85,
   "id": "5bf1f713",
   "metadata": {},
   "outputs": [
    {
     "data": {
      "text/plain": [
       "tensor(1.0821e-06, dtype=torch.float64)"
      ]
     },
     "execution_count": 85,
     "metadata": {},
     "output_type": "execute_result"
    }
   ],
   "source": [
    "torch.norm(against_torch - finufft_out)"
   ]
  },
  {
   "cell_type": "code",
   "execution_count": 131,
   "id": "4bcf8746",
   "metadata": {},
   "outputs": [],
   "source": [
    "# TYPE 3\n",
    "import copy\n",
    "\n",
    "curr = cases[0]\n",
    "\n",
    "N = len(curr)\n",
    "\n",
    "points = 2 * np.pi * np.arange(0, 1, 1 / N)\n",
    "targets = np.arange(0, N, dtype=np.float64)"
   ]
  },
  {
   "cell_type": "code",
   "execution_count": 132,
   "id": "3edbcb72",
   "metadata": {},
   "outputs": [],
   "source": [
    "finufft_out = finufft.nufft1d3(\n",
    "    points,\n",
    "    curr,\n",
    "    targets,\n",
    "    # modeord=0,\n",
    "    isign=-1,\n",
    ")"
   ]
  },
  {
   "cell_type": "code",
   "execution_count": 133,
   "id": "dd37b10d",
   "metadata": {},
   "outputs": [
    {
     "data": {
      "text/plain": [
       "tensor([ 2.5000+0.0000j,  4.2586-1.2449j, -3.0086-0.1123j, -3.0086+0.1123j,\n",
       "         4.2586+1.2449j], dtype=torch.complex128)"
      ]
     },
     "execution_count": 133,
     "metadata": {},
     "output_type": "execute_result"
    }
   ],
   "source": [
    "against_torch = torch.fft.fft(torch.from_numpy(curr))\n",
    "against_torch"
   ]
  },
  {
   "cell_type": "code",
   "execution_count": 134,
   "id": "9a6b336d",
   "metadata": {},
   "outputs": [
    {
     "data": {
      "text/plain": [
       "array([ 2.49997087+4.77731472e-07j,  4.25861004+1.24494898e+00j,\n",
       "       -3.0086104 +1.12256975e-01j, -3.00861032-1.12256967e-01j,\n",
       "        4.25855956-1.24493362e+00j])"
      ]
     },
     "execution_count": 134,
     "metadata": {},
     "output_type": "execute_result"
    }
   ],
   "source": [
    "finufft_out"
   ]
  },
  {
   "cell_type": "code",
   "execution_count": 135,
   "id": "4e67159c",
   "metadata": {},
   "outputs": [],
   "source": [
    "diff = torch.from_numpy(finufft_out) - against_torch"
   ]
  },
  {
   "cell_type": "code",
   "execution_count": 136,
   "id": "64bee83f",
   "metadata": {},
   "outputs": [
    {
     "data": {
      "text/plain": [
       "tensor(0.7071, dtype=torch.float64)"
      ]
     },
     "execution_count": 136,
     "metadata": {},
     "output_type": "execute_result"
    }
   ],
   "source": [
    "torch.norm(diff) / N"
   ]
  },
  {
   "cell_type": "code",
   "execution_count": null,
   "id": "c01a6bdb",
   "metadata": {},
   "outputs": [],
   "source": []
  }
 ],
 "metadata": {
  "kernelspec": {
   "display_name": "Python 3 (ipykernel)",
   "language": "python",
   "name": "python3"
  },
  "language_info": {
   "codemirror_mode": {
    "name": "ipython",
    "version": 3
   },
   "file_extension": ".py",
   "mimetype": "text/x-python",
   "name": "python",
   "nbconvert_exporter": "python",
   "pygments_lexer": "ipython3",
   "version": "3.9.16"
  }
 },
 "nbformat": 4,
 "nbformat_minor": 5
}
