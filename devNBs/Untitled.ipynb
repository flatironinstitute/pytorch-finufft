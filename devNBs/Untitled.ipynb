{
 "cells": [
  {
   "attachments": {},
   "cell_type": "markdown",
   "id": "7424a285",
   "metadata": {},
   "source": []
  },
  {
   "cell_type": "code",
   "execution_count": 30,
   "id": "d1207a90",
   "metadata": {},
   "outputs": [],
   "source": [
    "import numpy as np\n",
    "import pytorch_finufft\n",
    "import torch"
   ]
  },
  {
   "cell_type": "code",
   "execution_count": 36,
   "id": "30ca1621",
   "metadata": {},
   "outputs": [],
   "source": [
    "c = torch.randn(5, dtype=torch.complex64, requires_grad=True)\n",
    "x = torch.arange(5, dtype=torch.float32) * 2 * np.pi / 5"
   ]
  },
  {
   "cell_type": "code",
   "execution_count": 37,
   "id": "9384c045",
   "metadata": {},
   "outputs": [],
   "source": [
    "assert x.dtype is torch.float32"
   ]
  },
  {
   "cell_type": "code",
   "execution_count": 38,
   "id": "ac818077",
   "metadata": {},
   "outputs": [
    {
     "name": "stderr",
     "output_type": "stream",
     "text": [
      "/Users/matthewmeeker/miniconda3/envs/PytorchFinufftDev/lib/python3.9/site-packages/torch/autograd/function.py:445: DeprecationWarning: <class 'pytorch_finufft.functional.finufft1D1'> should not be instantiated. Methods on autograd functionsare all static, so you should invoke them on the class itself. Instantiating an autograd function will raise an error in a future version of PyTorch.\n",
      "  warnings.warn(f\"{cls} should not be instantiated. Methods on autograd functions\"\n"
     ]
    }
   ],
   "source": [
    "model = pytorch_finufft.functional.finufft1D1()"
   ]
  },
  {
   "cell_type": "code",
   "execution_count": 39,
   "id": "81403744",
   "metadata": {},
   "outputs": [],
   "source": [
    "finufft_out = model.apply(x, c)\n",
    "\n",
    "T = 1e-07\n",
    "\n",
    "w = torch.zeros(5, dtype=torch.float32)\n",
    "rind = np.random.randint(5)\n",
    "w[rind] = 1"
   ]
  },
  {
   "cell_type": "code",
   "execution_count": 40,
   "id": "7fcf49cc",
   "metadata": {},
   "outputs": [],
   "source": [
    "assert finufft_out.dtype is torch.complex64"
   ]
  },
  {
   "cell_type": "code",
   "execution_count": 43,
   "id": "a8fa480b",
   "metadata": {},
   "outputs": [],
   "source": [
    "gF = torch.abs(finufft_out).flatten().dot(w)"
   ]
  },
  {
   "cell_type": "code",
   "execution_count": 44,
   "id": "8d479292",
   "metadata": {},
   "outputs": [
    {
     "name": "stdout",
     "output_type": "stream",
     "text": [
      "complex64\n",
      "complex64\n"
     ]
    },
    {
     "ename": "RuntimeError",
     "evalue": "FINUFFT x dtype should be float64 for double precision or float32 for single precision",
     "output_type": "error",
     "traceback": [
      "\u001b[0;31m---------------------------------------------------------------------------\u001b[0m",
      "\u001b[0;31mRuntimeError\u001b[0m                              Traceback (most recent call last)",
      "Cell \u001b[0;32mIn[44], line 1\u001b[0m\n\u001b[0;32m----> 1\u001b[0m gF\u001b[39m.\u001b[39;49mbackward()\n",
      "File \u001b[0;32m~/miniconda3/envs/PytorchFinufftDev/lib/python3.9/site-packages/torch/_tensor.py:487\u001b[0m, in \u001b[0;36mTensor.backward\u001b[0;34m(self, gradient, retain_graph, create_graph, inputs)\u001b[0m\n\u001b[1;32m    477\u001b[0m \u001b[39mif\u001b[39;00m has_torch_function_unary(\u001b[39mself\u001b[39m):\n\u001b[1;32m    478\u001b[0m     \u001b[39mreturn\u001b[39;00m handle_torch_function(\n\u001b[1;32m    479\u001b[0m         Tensor\u001b[39m.\u001b[39mbackward,\n\u001b[1;32m    480\u001b[0m         (\u001b[39mself\u001b[39m,),\n\u001b[0;32m   (...)\u001b[0m\n\u001b[1;32m    485\u001b[0m         inputs\u001b[39m=\u001b[39minputs,\n\u001b[1;32m    486\u001b[0m     )\n\u001b[0;32m--> 487\u001b[0m torch\u001b[39m.\u001b[39;49mautograd\u001b[39m.\u001b[39;49mbackward(\n\u001b[1;32m    488\u001b[0m     \u001b[39mself\u001b[39;49m, gradient, retain_graph, create_graph, inputs\u001b[39m=\u001b[39;49minputs\n\u001b[1;32m    489\u001b[0m )\n",
      "File \u001b[0;32m~/miniconda3/envs/PytorchFinufftDev/lib/python3.9/site-packages/torch/autograd/__init__.py:200\u001b[0m, in \u001b[0;36mbackward\u001b[0;34m(tensors, grad_tensors, retain_graph, create_graph, grad_variables, inputs)\u001b[0m\n\u001b[1;32m    195\u001b[0m     retain_graph \u001b[39m=\u001b[39m create_graph\n\u001b[1;32m    197\u001b[0m \u001b[39m# The reason we repeat same the comment below is that\u001b[39;00m\n\u001b[1;32m    198\u001b[0m \u001b[39m# some Python versions print out the first line of a multi-line function\u001b[39;00m\n\u001b[1;32m    199\u001b[0m \u001b[39m# calls in the traceback and some print out the last line\u001b[39;00m\n\u001b[0;32m--> 200\u001b[0m Variable\u001b[39m.\u001b[39;49m_execution_engine\u001b[39m.\u001b[39;49mrun_backward(  \u001b[39m# Calls into the C++ engine to run the backward pass\u001b[39;49;00m\n\u001b[1;32m    201\u001b[0m     tensors, grad_tensors_, retain_graph, create_graph, inputs,\n\u001b[1;32m    202\u001b[0m     allow_unreachable\u001b[39m=\u001b[39;49m\u001b[39mTrue\u001b[39;49;00m, accumulate_grad\u001b[39m=\u001b[39;49m\u001b[39mTrue\u001b[39;49;00m)\n",
      "File \u001b[0;32m~/miniconda3/envs/PytorchFinufftDev/lib/python3.9/site-packages/torch/autograd/function.py:274\u001b[0m, in \u001b[0;36mBackwardCFunction.apply\u001b[0;34m(self, *args)\u001b[0m\n\u001b[1;32m    270\u001b[0m     \u001b[39mraise\u001b[39;00m \u001b[39mRuntimeError\u001b[39;00m(\u001b[39m\"\u001b[39m\u001b[39mImplementing both \u001b[39m\u001b[39m'\u001b[39m\u001b[39mbackward\u001b[39m\u001b[39m'\u001b[39m\u001b[39m and \u001b[39m\u001b[39m'\u001b[39m\u001b[39mvjp\u001b[39m\u001b[39m'\u001b[39m\u001b[39m for a custom \u001b[39m\u001b[39m\"\u001b[39m\n\u001b[1;32m    271\u001b[0m                        \u001b[39m\"\u001b[39m\u001b[39mFunction is not allowed. You should only implement one \u001b[39m\u001b[39m\"\u001b[39m\n\u001b[1;32m    272\u001b[0m                        \u001b[39m\"\u001b[39m\u001b[39mof them.\u001b[39m\u001b[39m\"\u001b[39m)\n\u001b[1;32m    273\u001b[0m user_fn \u001b[39m=\u001b[39m vjp_fn \u001b[39mif\u001b[39;00m vjp_fn \u001b[39mis\u001b[39;00m \u001b[39mnot\u001b[39;00m Function\u001b[39m.\u001b[39mvjp \u001b[39melse\u001b[39;00m backward_fn\n\u001b[0;32m--> 274\u001b[0m \u001b[39mreturn\u001b[39;00m user_fn(\u001b[39mself\u001b[39;49m, \u001b[39m*\u001b[39;49margs)\n",
      "File \u001b[0;32m~/Summer2023/Flatiron/pytorch-finufft/pytorch_finufft/functional.py:276\u001b[0m, in \u001b[0;36mfinufft1D1.backward\u001b[0;34m(ctx, grad_output)\u001b[0m\n\u001b[1;32m    273\u001b[0m     \u001b[39mprint\u001b[39m(np_points\u001b[39m.\u001b[39mdtype)\n\u001b[1;32m    274\u001b[0m     \u001b[39mprint\u001b[39m(np_grad_output\u001b[39m.\u001b[39mdtype)\n\u001b[0;32m--> 276\u001b[0m     grad_values \u001b[39m=\u001b[39m finufft\u001b[39m.\u001b[39;49mnufft1d2(\n\u001b[1;32m    277\u001b[0m         np_points,\n\u001b[1;32m    278\u001b[0m         np_grad_output,\n\u001b[1;32m    279\u001b[0m         isign\u001b[39m=\u001b[39;49m_i_sign,\n\u001b[1;32m    280\u001b[0m         modeord\u001b[39m=\u001b[39;49m_mode_ordering,\n\u001b[1;32m    281\u001b[0m         \u001b[39m*\u001b[39;49m\u001b[39m*\u001b[39;49mfinufftkwargs,\n\u001b[1;32m    282\u001b[0m     )\n\u001b[1;32m    284\u001b[0m \u001b[39mreturn\u001b[39;00m grad_points, grad_values, \u001b[39mNone\u001b[39;00m, \u001b[39mNone\u001b[39;00m, \u001b[39mNone\u001b[39;00m, \u001b[39mNone\u001b[39;00m\n",
      "File \u001b[0;32m~/miniconda3/envs/PytorchFinufftDev/lib/python3.9/site-packages/finufft/_interfaces.py:839\u001b[0m, in \u001b[0;36mnufft1d2\u001b[0;34m(x, f, out, eps, isign, **kwargs)\u001b[0m\n\u001b[1;32m    838\u001b[0m \u001b[39mdef\u001b[39;00m \u001b[39mnufft1d2\u001b[39m(x,f,out\u001b[39m=\u001b[39m\u001b[39mNone\u001b[39;00m,eps\u001b[39m=\u001b[39m\u001b[39m1e-6\u001b[39m,isign\u001b[39m=\u001b[39m\u001b[39m-\u001b[39m\u001b[39m1\u001b[39m,\u001b[39m*\u001b[39m\u001b[39m*\u001b[39mkwargs):\n\u001b[0;32m--> 839\u001b[0m     \u001b[39mreturn\u001b[39;00m invoke_guru(\u001b[39m1\u001b[39;49m,\u001b[39m2\u001b[39;49m,x,\u001b[39mNone\u001b[39;49;00m,\u001b[39mNone\u001b[39;49;00m,out,\u001b[39mNone\u001b[39;49;00m,\u001b[39mNone\u001b[39;49;00m,\u001b[39mNone\u001b[39;49;00m,f,isign,eps,\u001b[39mNone\u001b[39;49;00m,\u001b[39m*\u001b[39;49m\u001b[39m*\u001b[39;49mkwargs)\n",
      "File \u001b[0;32m~/miniconda3/envs/PytorchFinufftDev/lib/python3.9/site-packages/finufft/_interfaces.py:559\u001b[0m, in \u001b[0;36minvoke_guru\u001b[0;34m(dim, tp, x, y, z, c, s, t, u, f, isign, eps, n_modes, **kwargs)\u001b[0m\n\u001b[1;32m    557\u001b[0m     pdtype \u001b[39m=\u001b[39m \u001b[39m'\u001b[39m\u001b[39msingle\u001b[39m\u001b[39m'\u001b[39m\n\u001b[1;32m    558\u001b[0m \u001b[39melse\u001b[39;00m:\n\u001b[0;32m--> 559\u001b[0m     \u001b[39mraise\u001b[39;00m \u001b[39mRuntimeError\u001b[39;00m(\u001b[39m'\u001b[39m\u001b[39mFINUFFT x dtype should be float64 for double precision or float32 for single precision\u001b[39m\u001b[39m'\u001b[39m)\n\u001b[1;32m    560\u001b[0m \u001b[39m# check n_modes type, n_modes must be a tuple or an integer\u001b[39;00m\n\u001b[1;32m    561\u001b[0m \u001b[39mif\u001b[39;00m n_modes \u001b[39mis\u001b[39;00m \u001b[39mnot\u001b[39;00m \u001b[39mNone\u001b[39;00m:\n",
      "\u001b[0;31mRuntimeError\u001b[0m: FINUFFT x dtype should be float64 for double precision or float32 for single precision"
     ]
    }
   ],
   "source": [
    "gF.backward()"
   ]
  },
  {
   "cell_type": "code",
   "execution_count": 34,
   "id": "c9ad0563",
   "metadata": {},
   "outputs": [
    {
     "data": {
      "text/plain": [
       "torch.float32"
      ]
     },
     "execution_count": 34,
     "metadata": {},
     "output_type": "execute_result"
    }
   ],
   "source": [
    "gF.dtype"
   ]
  },
  {
   "cell_type": "code",
   "execution_count": 15,
   "id": "b278b6cc",
   "metadata": {},
   "outputs": [
    {
     "data": {
      "text/plain": [
       "array(4.312298, dtype=float32)"
      ]
     },
     "execution_count": 15,
     "metadata": {},
     "output_type": "execute_result"
    }
   ],
   "source": []
  },
  {
   "cell_type": "code",
   "execution_count": null,
   "id": "5699cc0c",
   "metadata": {},
   "outputs": [],
   "source": []
  }
 ],
 "metadata": {
  "kernelspec": {
   "display_name": "PytorchFinufftDev",
   "language": "python",
   "name": "python3"
  },
  "language_info": {
   "codemirror_mode": {
    "name": "ipython",
    "version": 3
   },
   "file_extension": ".py",
   "mimetype": "text/x-python",
   "name": "python",
   "nbconvert_exporter": "python",
   "pygments_lexer": "ipython3",
   "version": "3.9.16"
  }
 },
 "nbformat": 4,
 "nbformat_minor": 5
}
